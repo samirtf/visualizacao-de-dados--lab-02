{
  "nbformat": 4,
  "nbformat_minor": 0,
  "metadata": {
    "colab": {
      "name": "Covid.ipynb",
      "provenance": [],
      "collapsed_sections": []
    },
    "kernelspec": {
      "name": "python3",
      "display_name": "Python 3"
    }
  },
  "cells": [
    {
      "cell_type": "code",
      "metadata": {
        "id": "2d9UTE4WJnio",
        "outputId": "bcd90885-3e83-4cf4-dabd-d070f98a60bf",
        "colab": {
          "resources": {
            "http://localhost:8080/nbextensions/google.colab/files.js": {
              "data": "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",
              "ok": true,
              "headers": [
                [
                  "content-type",
                  "application/javascript"
                ]
              ],
              "status": 200,
              "status_text": ""
            }
          },
          "base_uri": "https://localhost:8080/",
          "height": 72
        }
      },
      "source": [
        "from google.colab import files\n",
        "uploaded = files.upload()"
      ],
      "execution_count": 1,
      "outputs": [
        {
          "output_type": "display_data",
          "data": {
            "text/html": [
              "\n",
              "     <input type=\"file\" id=\"files-6402550b-ed35-48c5-8445-de3c2c65cb93\" name=\"files[]\" multiple disabled\n",
              "        style=\"border:none\" />\n",
              "     <output id=\"result-6402550b-ed35-48c5-8445-de3c2c65cb93\">\n",
              "      Upload widget is only available when the cell has been executed in the\n",
              "      current browser session. Please rerun this cell to enable.\n",
              "      </output>\n",
              "      <script src=\"/nbextensions/google.colab/files.js\"></script> "
            ],
            "text/plain": [
              "<IPython.core.display.HTML object>"
            ]
          },
          "metadata": {
            "tags": []
          }
        },
        {
          "output_type": "stream",
          "text": [
            "Saving covid_caso.csv to covid_caso.csv\n"
          ],
          "name": "stdout"
        }
      ]
    },
    {
      "cell_type": "code",
      "metadata": {
        "id": "pyEgC9p-Mv1X"
      },
      "source": [
        "import pandas as pd\n",
        "import io\n",
        "df2 = pd.read_csv(io.BytesIO(uploaded['covid_caso.csv']))\n",
        "# Dataset is now stored in a Pandas Dataframe"
      ],
      "execution_count": 5,
      "outputs": []
    },
    {
      "cell_type": "code",
      "metadata": {
        "id": "RppWKDb-MzUd",
        "outputId": "63e739f3-3cef-4fa1-ec0d-cd3b543f9a4a",
        "colab": {
          "base_uri": "https://localhost:8080/",
          "height": 309
        }
      },
      "source": [
        "df2.head()"
      ],
      "execution_count": 6,
      "outputs": [
        {
          "output_type": "execute_result",
          "data": {
            "text/html": [
              "<div>\n",
              "<style scoped>\n",
              "    .dataframe tbody tr th:only-of-type {\n",
              "        vertical-align: middle;\n",
              "    }\n",
              "\n",
              "    .dataframe tbody tr th {\n",
              "        vertical-align: top;\n",
              "    }\n",
              "\n",
              "    .dataframe thead th {\n",
              "        text-align: right;\n",
              "    }\n",
              "</style>\n",
              "<table border=\"1\" class=\"dataframe\">\n",
              "  <thead>\n",
              "    <tr style=\"text-align: right;\">\n",
              "      <th></th>\n",
              "      <th>date</th>\n",
              "      <th>state</th>\n",
              "      <th>city</th>\n",
              "      <th>place_type</th>\n",
              "      <th>confirmed</th>\n",
              "      <th>deaths</th>\n",
              "      <th>order_for_place</th>\n",
              "      <th>is_last</th>\n",
              "      <th>estimated_population_2019</th>\n",
              "      <th>estimated_population</th>\n",
              "      <th>city_ibge_code</th>\n",
              "      <th>confirmed_per_100k_inhabitants</th>\n",
              "      <th>death_rate</th>\n",
              "    </tr>\n",
              "  </thead>\n",
              "  <tbody>\n",
              "    <tr>\n",
              "      <th>0</th>\n",
              "      <td>2020-11-03</td>\n",
              "      <td>AP</td>\n",
              "      <td>NaN</td>\n",
              "      <td>state</td>\n",
              "      <td>52832</td>\n",
              "      <td>751</td>\n",
              "      <td>228</td>\n",
              "      <td>True</td>\n",
              "      <td>845731.0</td>\n",
              "      <td>861773.0</td>\n",
              "      <td>16.0</td>\n",
              "      <td>6130.61676</td>\n",
              "      <td>0.0142</td>\n",
              "    </tr>\n",
              "    <tr>\n",
              "      <th>1</th>\n",
              "      <td>2020-11-02</td>\n",
              "      <td>AP</td>\n",
              "      <td>NaN</td>\n",
              "      <td>state</td>\n",
              "      <td>52653</td>\n",
              "      <td>749</td>\n",
              "      <td>227</td>\n",
              "      <td>False</td>\n",
              "      <td>845731.0</td>\n",
              "      <td>861773.0</td>\n",
              "      <td>16.0</td>\n",
              "      <td>6109.84563</td>\n",
              "      <td>0.0142</td>\n",
              "    </tr>\n",
              "    <tr>\n",
              "      <th>2</th>\n",
              "      <td>2020-11-01</td>\n",
              "      <td>AP</td>\n",
              "      <td>NaN</td>\n",
              "      <td>state</td>\n",
              "      <td>52500</td>\n",
              "      <td>748</td>\n",
              "      <td>226</td>\n",
              "      <td>False</td>\n",
              "      <td>845731.0</td>\n",
              "      <td>861773.0</td>\n",
              "      <td>16.0</td>\n",
              "      <td>6092.09154</td>\n",
              "      <td>0.0142</td>\n",
              "    </tr>\n",
              "    <tr>\n",
              "      <th>3</th>\n",
              "      <td>2020-10-31</td>\n",
              "      <td>AP</td>\n",
              "      <td>NaN</td>\n",
              "      <td>state</td>\n",
              "      <td>52175</td>\n",
              "      <td>748</td>\n",
              "      <td>225</td>\n",
              "      <td>False</td>\n",
              "      <td>845731.0</td>\n",
              "      <td>861773.0</td>\n",
              "      <td>16.0</td>\n",
              "      <td>6054.37859</td>\n",
              "      <td>0.0143</td>\n",
              "    </tr>\n",
              "    <tr>\n",
              "      <th>4</th>\n",
              "      <td>2020-10-30</td>\n",
              "      <td>AP</td>\n",
              "      <td>NaN</td>\n",
              "      <td>state</td>\n",
              "      <td>52030</td>\n",
              "      <td>747</td>\n",
              "      <td>224</td>\n",
              "      <td>False</td>\n",
              "      <td>845731.0</td>\n",
              "      <td>861773.0</td>\n",
              "      <td>16.0</td>\n",
              "      <td>6037.55281</td>\n",
              "      <td>0.0144</td>\n",
              "    </tr>\n",
              "  </tbody>\n",
              "</table>\n",
              "</div>"
            ],
            "text/plain": [
              "         date state  ... confirmed_per_100k_inhabitants death_rate\n",
              "0  2020-11-03    AP  ...                     6130.61676     0.0142\n",
              "1  2020-11-02    AP  ...                     6109.84563     0.0142\n",
              "2  2020-11-01    AP  ...                     6092.09154     0.0142\n",
              "3  2020-10-31    AP  ...                     6054.37859     0.0143\n",
              "4  2020-10-30    AP  ...                     6037.55281     0.0144\n",
              "\n",
              "[5 rows x 13 columns]"
            ]
          },
          "metadata": {
            "tags": []
          },
          "execution_count": 6
        }
      ]
    },
    {
      "cell_type": "code",
      "metadata": {
        "id": "BRMmEUHuOEIt"
      },
      "source": [
        "df2.dropna(subset = [\"state\"], inplace=True)\n",
        "df2.dropna(subset = [\"city\"], inplace=True)\n",
        "df2.dropna(subset = [\"confirmed\"], inplace=True)\n",
        "df2.dropna(subset = [\"deaths\"], inplace=True)"
      ],
      "execution_count": 19,
      "outputs": []
    },
    {
      "cell_type": "code",
      "metadata": {
        "id": "ygsiZXqYOL_t",
        "outputId": "5d5de89c-1feb-4e82-d595-4338e3fb9e54",
        "colab": {
          "base_uri": "https://localhost:8080/"
        }
      },
      "source": [
        "df2_ap = df2[df2['state'] == 'AP']\n",
        "df2_ap.city.value_counts()"
      ],
      "execution_count": 26,
      "outputs": [
        {
          "output_type": "execute_result",
          "data": {
            "text/plain": [
              "Macapá                     224\n",
              "Oiapoque                   209\n",
              "Santana                    208\n",
              "Porto Grande               199\n",
              "Mazagão                    199\n",
              "Vitória do Jari            199\n",
              "Laranjal do Jari           198\n",
              "Serra do Navio             191\n",
              "Pedra Branca do Amapari    190\n",
              "Itaubal                    189\n",
              "Amapá                      187\n",
              "Tartarugalzinho            187\n",
              "Calçoene                   182\n",
              "Ferreira Gomes             181\n",
              "Cutias                     178\n",
              "Pracuúba                   178\n",
              "Name: city, dtype: int64"
            ]
          },
          "metadata": {
            "tags": []
          },
          "execution_count": 26
        }
      ]
    },
    {
      "cell_type": "code",
      "metadata": {
        "id": "hlJ1215WXBIn",
        "outputId": "5e160dc7-d082-4064-9a20-c3ef3aaaf64d",
        "colab": {
          "base_uri": "https://localhost:8080/"
        }
      },
      "source": [
        "states = df2.state.unique()\n",
        "states"
      ],
      "execution_count": 80,
      "outputs": [
        {
          "output_type": "execute_result",
          "data": {
            "text/plain": [
              "array(['AP', 'AC', 'AM', 'DF', 'AL', 'CE', 'ES', 'BA', 'MS', 'MA', 'GO',\n",
              "       'MT', 'PA', 'PB', 'PE', 'MG', 'PI', 'RO', 'RJ', 'RN', 'PR', 'RR',\n",
              "       'SE', 'SC', 'RS', 'TO', 'SP'], dtype=object)"
            ]
          },
          "metadata": {
            "tags": []
          },
          "execution_count": 80
        }
      ]
    },
    {
      "cell_type": "code",
      "metadata": {
        "id": "tqWVd0OuYTY1",
        "outputId": "89227bf4-d6a6-4035-f7c2-dc4ac2914a4c",
        "colab": {
          "base_uri": "https://localhost:8080/",
          "height": 609
        }
      },
      "source": [
        "state_cities_dict = {}\n",
        "# for state in states:\n",
        "df2.loc[ (df2['state'] == \"AL\") & (df2['place_type'] == 'city')]"
      ],
      "execution_count": 100,
      "outputs": [
        {
          "output_type": "execute_result",
          "data": {
            "text/html": [
              "<div>\n",
              "<style scoped>\n",
              "    .dataframe tbody tr th:only-of-type {\n",
              "        vertical-align: middle;\n",
              "    }\n",
              "\n",
              "    .dataframe tbody tr th {\n",
              "        vertical-align: top;\n",
              "    }\n",
              "\n",
              "    .dataframe thead th {\n",
              "        text-align: right;\n",
              "    }\n",
              "</style>\n",
              "<table border=\"1\" class=\"dataframe\">\n",
              "  <thead>\n",
              "    <tr style=\"text-align: right;\">\n",
              "      <th></th>\n",
              "      <th>date</th>\n",
              "      <th>state</th>\n",
              "      <th>city</th>\n",
              "      <th>place_type</th>\n",
              "      <th>confirmed</th>\n",
              "      <th>deaths</th>\n",
              "      <th>order_for_place</th>\n",
              "      <th>is_last</th>\n",
              "      <th>estimated_population_2019</th>\n",
              "      <th>estimated_population</th>\n",
              "      <th>city_ibge_code</th>\n",
              "      <th>confirmed_per_100k_inhabitants</th>\n",
              "      <th>death_rate</th>\n",
              "    </tr>\n",
              "  </thead>\n",
              "  <tbody>\n",
              "    <tr>\n",
              "      <th>20792</th>\n",
              "      <td>2020-11-07</td>\n",
              "      <td>AL</td>\n",
              "      <td>Anadia</td>\n",
              "      <td>city</td>\n",
              "      <td>504</td>\n",
              "      <td>8</td>\n",
              "      <td>199</td>\n",
              "      <td>True</td>\n",
              "      <td>17545.0</td>\n",
              "      <td>17526.0</td>\n",
              "      <td>2700201.0</td>\n",
              "      <td>2875.72749</td>\n",
              "      <td>0.0159</td>\n",
              "    </tr>\n",
              "    <tr>\n",
              "      <th>20793</th>\n",
              "      <td>2020-11-06</td>\n",
              "      <td>AL</td>\n",
              "      <td>Anadia</td>\n",
              "      <td>city</td>\n",
              "      <td>503</td>\n",
              "      <td>8</td>\n",
              "      <td>198</td>\n",
              "      <td>False</td>\n",
              "      <td>17545.0</td>\n",
              "      <td>17526.0</td>\n",
              "      <td>2700201.0</td>\n",
              "      <td>2870.02168</td>\n",
              "      <td>0.0159</td>\n",
              "    </tr>\n",
              "    <tr>\n",
              "      <th>20794</th>\n",
              "      <td>2020-11-05</td>\n",
              "      <td>AL</td>\n",
              "      <td>Anadia</td>\n",
              "      <td>city</td>\n",
              "      <td>503</td>\n",
              "      <td>8</td>\n",
              "      <td>197</td>\n",
              "      <td>False</td>\n",
              "      <td>17545.0</td>\n",
              "      <td>17526.0</td>\n",
              "      <td>2700201.0</td>\n",
              "      <td>2870.02168</td>\n",
              "      <td>0.0159</td>\n",
              "    </tr>\n",
              "    <tr>\n",
              "      <th>20795</th>\n",
              "      <td>2020-11-04</td>\n",
              "      <td>AL</td>\n",
              "      <td>Anadia</td>\n",
              "      <td>city</td>\n",
              "      <td>503</td>\n",
              "      <td>8</td>\n",
              "      <td>196</td>\n",
              "      <td>False</td>\n",
              "      <td>17545.0</td>\n",
              "      <td>17526.0</td>\n",
              "      <td>2700201.0</td>\n",
              "      <td>2870.02168</td>\n",
              "      <td>0.0159</td>\n",
              "    </tr>\n",
              "    <tr>\n",
              "      <th>20796</th>\n",
              "      <td>2020-11-03</td>\n",
              "      <td>AL</td>\n",
              "      <td>Anadia</td>\n",
              "      <td>city</td>\n",
              "      <td>503</td>\n",
              "      <td>8</td>\n",
              "      <td>195</td>\n",
              "      <td>False</td>\n",
              "      <td>17545.0</td>\n",
              "      <td>17526.0</td>\n",
              "      <td>2700201.0</td>\n",
              "      <td>2870.02168</td>\n",
              "      <td>0.0159</td>\n",
              "    </tr>\n",
              "    <tr>\n",
              "      <th>...</th>\n",
              "      <td>...</td>\n",
              "      <td>...</td>\n",
              "      <td>...</td>\n",
              "      <td>...</td>\n",
              "      <td>...</td>\n",
              "      <td>...</td>\n",
              "      <td>...</td>\n",
              "      <td>...</td>\n",
              "      <td>...</td>\n",
              "      <td>...</td>\n",
              "      <td>...</td>\n",
              "      <td>...</td>\n",
              "      <td>...</td>\n",
              "    </tr>\n",
              "    <tr>\n",
              "      <th>40139</th>\n",
              "      <td>2020-06-07</td>\n",
              "      <td>AL</td>\n",
              "      <td>Água Branca</td>\n",
              "      <td>city</td>\n",
              "      <td>4</td>\n",
              "      <td>0</td>\n",
              "      <td>5</td>\n",
              "      <td>False</td>\n",
              "      <td>20196.0</td>\n",
              "      <td>20230.0</td>\n",
              "      <td>2700102.0</td>\n",
              "      <td>19.77261</td>\n",
              "      <td>0.0000</td>\n",
              "    </tr>\n",
              "    <tr>\n",
              "      <th>40140</th>\n",
              "      <td>2020-06-06</td>\n",
              "      <td>AL</td>\n",
              "      <td>Água Branca</td>\n",
              "      <td>city</td>\n",
              "      <td>4</td>\n",
              "      <td>0</td>\n",
              "      <td>4</td>\n",
              "      <td>False</td>\n",
              "      <td>20196.0</td>\n",
              "      <td>20230.0</td>\n",
              "      <td>2700102.0</td>\n",
              "      <td>19.77261</td>\n",
              "      <td>0.0000</td>\n",
              "    </tr>\n",
              "    <tr>\n",
              "      <th>40141</th>\n",
              "      <td>2020-06-05</td>\n",
              "      <td>AL</td>\n",
              "      <td>Água Branca</td>\n",
              "      <td>city</td>\n",
              "      <td>1</td>\n",
              "      <td>0</td>\n",
              "      <td>3</td>\n",
              "      <td>False</td>\n",
              "      <td>20196.0</td>\n",
              "      <td>20230.0</td>\n",
              "      <td>2700102.0</td>\n",
              "      <td>4.94315</td>\n",
              "      <td>0.0000</td>\n",
              "    </tr>\n",
              "    <tr>\n",
              "      <th>40142</th>\n",
              "      <td>2020-06-04</td>\n",
              "      <td>AL</td>\n",
              "      <td>Água Branca</td>\n",
              "      <td>city</td>\n",
              "      <td>1</td>\n",
              "      <td>0</td>\n",
              "      <td>2</td>\n",
              "      <td>False</td>\n",
              "      <td>20196.0</td>\n",
              "      <td>20230.0</td>\n",
              "      <td>2700102.0</td>\n",
              "      <td>4.94315</td>\n",
              "      <td>0.0000</td>\n",
              "    </tr>\n",
              "    <tr>\n",
              "      <th>40143</th>\n",
              "      <td>2020-06-03</td>\n",
              "      <td>AL</td>\n",
              "      <td>Água Branca</td>\n",
              "      <td>city</td>\n",
              "      <td>1</td>\n",
              "      <td>0</td>\n",
              "      <td>1</td>\n",
              "      <td>False</td>\n",
              "      <td>20196.0</td>\n",
              "      <td>20230.0</td>\n",
              "      <td>2700102.0</td>\n",
              "      <td>4.94315</td>\n",
              "      <td>0.0000</td>\n",
              "    </tr>\n",
              "  </tbody>\n",
              "</table>\n",
              "<p>19352 rows × 13 columns</p>\n",
              "</div>"
            ],
            "text/plain": [
              "             date state  ... confirmed_per_100k_inhabitants death_rate\n",
              "20792  2020-11-07    AL  ...                     2875.72749     0.0159\n",
              "20793  2020-11-06    AL  ...                     2870.02168     0.0159\n",
              "20794  2020-11-05    AL  ...                     2870.02168     0.0159\n",
              "20795  2020-11-04    AL  ...                     2870.02168     0.0159\n",
              "20796  2020-11-03    AL  ...                     2870.02168     0.0159\n",
              "...           ...   ...  ...                            ...        ...\n",
              "40139  2020-06-07    AL  ...                       19.77261     0.0000\n",
              "40140  2020-06-06    AL  ...                       19.77261     0.0000\n",
              "40141  2020-06-05    AL  ...                        4.94315     0.0000\n",
              "40142  2020-06-04    AL  ...                        4.94315     0.0000\n",
              "40143  2020-06-03    AL  ...                        4.94315     0.0000\n",
              "\n",
              "[19352 rows x 13 columns]"
            ]
          },
          "metadata": {
            "tags": []
          },
          "execution_count": 100
        }
      ]
    },
    {
      "cell_type": "code",
      "metadata": {
        "id": "q1Y9ziO-ZyXe"
      },
      "source": [
        "column_names = ['state', 'city', 'confirmed', 'deaths', 'estimated_population', 'death_rate', 'city_ibge_code']\n",
        "df_processed = pd.DataFrame(columns = column_names)\n",
        "\n",
        "city_ibge_code_list = df2.city_ibge_code.unique()\n",
        "for city_ibge_code in city_ibge_code_list:\n",
        "  tmp = df2.loc[ (df2['city_ibge_code'] == city_ibge_code) & (df2['place_type'] == 'city') ]\n",
        "  if( len(tmp['state'].unique()) == 1):\n",
        "    df_processed = df_processed.append({\n",
        "        'state': tmp['state'].unique()[0],\n",
        "        'city': tmp['city'].unique()[0],\n",
        "        'confirmed': tmp['confirmed'].max(),\n",
        "        'deaths': tmp['deaths'].max(),\n",
        "        'estimated_population': tmp['estimated_population'].max(),\n",
        "        'death_rate': tmp['death_rate'].max(),\n",
        "        'city_ibge_code': tmp['city_ibge_code'].unique()[0]\n",
        "        }, ignore_index=True)"
      ],
      "execution_count": 129,
      "outputs": []
    },
    {
      "cell_type": "code",
      "metadata": {
        "id": "mzAZFO3mfCgd",
        "outputId": "3b863e43-eee5-4055-97e1-810e800da79d",
        "colab": {
          "base_uri": "https://localhost:8080/",
          "height": 204
        }
      },
      "source": [
        "# df_processed['state'] = tmp['state'].unique()[0]\n",
        "#     df_processed['city'] = tmp['city'].unique()[0]\n",
        "#     df_processed['confirmed'] = tmp['confirmed'].max()\n",
        "#     df_processed['deaths'] = tmp['deaths'].max()\n",
        "#     df_processed['estimated_population'] = tmp['estimated_population'].max()\n",
        "#     df_processed['death_rate'] = tmp['death_rate'].max()\n",
        "#     df_processed['city_ibge_code'] = tmp['city_ibge_code'].unique()[0]\n",
        "\n",
        "# tmp = df2.loc[ (df2['city_ibge_code'] == 1200013.0) & (df2['place_type'] == 'city') ]\n",
        "# tmp['state'].unique()[0]\n",
        "# tmp['city'].unique()[0]\n",
        "# tmp['confirmed'].max()\n",
        "# tmp['deaths'].max()\n",
        "# tmp['estimated_population'].max()\n",
        "# tmp['death_rate'].max()\n",
        "# tmp['city_ibge_code'].unique()[0]\n",
        "df_processed.head()"
      ],
      "execution_count": 130,
      "outputs": [
        {
          "output_type": "execute_result",
          "data": {
            "text/html": [
              "<div>\n",
              "<style scoped>\n",
              "    .dataframe tbody tr th:only-of-type {\n",
              "        vertical-align: middle;\n",
              "    }\n",
              "\n",
              "    .dataframe tbody tr th {\n",
              "        vertical-align: top;\n",
              "    }\n",
              "\n",
              "    .dataframe thead th {\n",
              "        text-align: right;\n",
              "    }\n",
              "</style>\n",
              "<table border=\"1\" class=\"dataframe\">\n",
              "  <thead>\n",
              "    <tr style=\"text-align: right;\">\n",
              "      <th></th>\n",
              "      <th>state</th>\n",
              "      <th>city</th>\n",
              "      <th>confirmed</th>\n",
              "      <th>deaths</th>\n",
              "      <th>estimated_population</th>\n",
              "      <th>death_rate</th>\n",
              "      <th>city_ibge_code</th>\n",
              "    </tr>\n",
              "  </thead>\n",
              "  <tbody>\n",
              "    <tr>\n",
              "      <th>0</th>\n",
              "      <td>AP</td>\n",
              "      <td>Amapá</td>\n",
              "      <td>787</td>\n",
              "      <td>4</td>\n",
              "      <td>9187.0</td>\n",
              "      <td>0.1000</td>\n",
              "      <td>1600105.0</td>\n",
              "    </tr>\n",
              "    <tr>\n",
              "      <th>1</th>\n",
              "      <td>AP</td>\n",
              "      <td>Calçoene</td>\n",
              "      <td>1202</td>\n",
              "      <td>5</td>\n",
              "      <td>11306.0</td>\n",
              "      <td>0.1250</td>\n",
              "      <td>1600204.0</td>\n",
              "    </tr>\n",
              "    <tr>\n",
              "      <th>2</th>\n",
              "      <td>AP</td>\n",
              "      <td>Cutias</td>\n",
              "      <td>620</td>\n",
              "      <td>2</td>\n",
              "      <td>6101.0</td>\n",
              "      <td>0.0333</td>\n",
              "      <td>1600212.0</td>\n",
              "    </tr>\n",
              "    <tr>\n",
              "      <th>3</th>\n",
              "      <td>AP</td>\n",
              "      <td>Ferreira Gomes</td>\n",
              "      <td>590</td>\n",
              "      <td>3</td>\n",
              "      <td>7967.0</td>\n",
              "      <td>0.3333</td>\n",
              "      <td>1600238.0</td>\n",
              "    </tr>\n",
              "    <tr>\n",
              "      <th>4</th>\n",
              "      <td>AP</td>\n",
              "      <td>Itaubal</td>\n",
              "      <td>321</td>\n",
              "      <td>0</td>\n",
              "      <td>5617.0</td>\n",
              "      <td>0.0000</td>\n",
              "      <td>1600253.0</td>\n",
              "    </tr>\n",
              "  </tbody>\n",
              "</table>\n",
              "</div>"
            ],
            "text/plain": [
              "  state            city  ... death_rate city_ibge_code\n",
              "0    AP           Amapá  ...     0.1000      1600105.0\n",
              "1    AP        Calçoene  ...     0.1250      1600204.0\n",
              "2    AP          Cutias  ...     0.0333      1600212.0\n",
              "3    AP  Ferreira Gomes  ...     0.3333      1600238.0\n",
              "4    AP         Itaubal  ...     0.0000      1600253.0\n",
              "\n",
              "[5 rows x 7 columns]"
            ]
          },
          "metadata": {
            "tags": []
          },
          "execution_count": 130
        }
      ]
    },
    {
      "cell_type": "code",
      "metadata": {
        "id": "FHj83jPUnhqv",
        "outputId": "7db3c877-b296-4f60-9d1d-11eb35c3a270",
        "colab": {
          "base_uri": "https://localhost:8080/",
          "height": 17
        }
      },
      "source": [
        "from google.colab import files\n",
        "df_processed.to_csv('covid_df_processed.csv') \n",
        "files.download('covid_df_processed.csv')"
      ],
      "execution_count": 131,
      "outputs": [
        {
          "output_type": "display_data",
          "data": {
            "application/javascript": [
              "\n",
              "    async function download(id, filename, size) {\n",
              "      if (!google.colab.kernel.accessAllowed) {\n",
              "        return;\n",
              "      }\n",
              "      const div = document.createElement('div');\n",
              "      const label = document.createElement('label');\n",
              "      label.textContent = `Downloading \"${filename}\": `;\n",
              "      div.appendChild(label);\n",
              "      const progress = document.createElement('progress');\n",
              "      progress.max = size;\n",
              "      div.appendChild(progress);\n",
              "      document.body.appendChild(div);\n",
              "\n",
              "      const buffers = [];\n",
              "      let downloaded = 0;\n",
              "\n",
              "      const channel = await google.colab.kernel.comms.open(id);\n",
              "      // Send a message to notify the kernel that we're ready.\n",
              "      channel.send({})\n",
              "\n",
              "      for await (const message of channel.messages) {\n",
              "        // Send a message to notify the kernel that we're ready.\n",
              "        channel.send({})\n",
              "        if (message.buffers) {\n",
              "          for (const buffer of message.buffers) {\n",
              "            buffers.push(buffer);\n",
              "            downloaded += buffer.byteLength;\n",
              "            progress.value = downloaded;\n",
              "          }\n",
              "        }\n",
              "      }\n",
              "      const blob = new Blob(buffers, {type: 'application/binary'});\n",
              "      const a = document.createElement('a');\n",
              "      a.href = window.URL.createObjectURL(blob);\n",
              "      a.download = filename;\n",
              "      div.appendChild(a);\n",
              "      a.click();\n",
              "      div.remove();\n",
              "    }\n",
              "  "
            ],
            "text/plain": [
              "<IPython.core.display.Javascript object>"
            ]
          },
          "metadata": {
            "tags": []
          }
        },
        {
          "output_type": "display_data",
          "data": {
            "application/javascript": [
              "download(\"download_21010dcd-80e4-446f-acba-541fd9e40111\", \"covid_df_processed.csv\", 281667)"
            ],
            "text/plain": [
              "<IPython.core.display.Javascript object>"
            ]
          },
          "metadata": {
            "tags": []
          }
        }
      ]
    },
    {
      "cell_type": "code",
      "metadata": {
        "id": "oH5RLzEPP98f"
      },
      "source": [
        "states_column_names = ['state', 'confirmed', 'deaths', 'estimated_population']\n",
        "df_states_processed = pd.DataFrame(columns = states_column_names)"
      ],
      "execution_count": 142,
      "outputs": []
    },
    {
      "cell_type": "code",
      "metadata": {
        "id": "Ou-YOS6yoLo1"
      },
      "source": [
        "states = df2.state.unique()\n",
        "for state in states:\n",
        "  tmp = df_processed.loc[df_processed['state'] == state]\n",
        "  df_states_processed = df_states_processed.append({\n",
        "        'state': tmp['state'].unique()[0],\n",
        "        'confirmed': tmp['confirmed'].sum(),\n",
        "        'deaths': tmp['deaths'].sum(),\n",
        "        'estimated_population': tmp['estimated_population'].sum()\n",
        "        }, ignore_index=True)"
      ],
      "execution_count": 143,
      "outputs": []
    },
    {
      "cell_type": "code",
      "metadata": {
        "id": "avGdW4f5ptmt"
      },
      "source": [
        "df_states_processed['death_rate'] = df_states_processed['deaths'] / df_states_processed['confirmed']"
      ],
      "execution_count": 145,
      "outputs": []
    },
    {
      "cell_type": "code",
      "metadata": {
        "id": "_6qcP0APp8Ni",
        "outputId": "155d8bcf-9319-4165-e690-9c960a61aefe",
        "colab": {
          "base_uri": "https://localhost:8080/",
          "height": 886
        }
      },
      "source": [
        "df_states_processed"
      ],
      "execution_count": 146,
      "outputs": [
        {
          "output_type": "execute_result",
          "data": {
            "text/html": [
              "<div>\n",
              "<style scoped>\n",
              "    .dataframe tbody tr th:only-of-type {\n",
              "        vertical-align: middle;\n",
              "    }\n",
              "\n",
              "    .dataframe tbody tr th {\n",
              "        vertical-align: top;\n",
              "    }\n",
              "\n",
              "    .dataframe thead th {\n",
              "        text-align: right;\n",
              "    }\n",
              "</style>\n",
              "<table border=\"1\" class=\"dataframe\">\n",
              "  <thead>\n",
              "    <tr style=\"text-align: right;\">\n",
              "      <th></th>\n",
              "      <th>state</th>\n",
              "      <th>confirmed</th>\n",
              "      <th>deaths</th>\n",
              "      <th>estimated_population</th>\n",
              "      <th>death_rate</th>\n",
              "    </tr>\n",
              "  </thead>\n",
              "  <tbody>\n",
              "    <tr>\n",
              "      <th>0</th>\n",
              "      <td>AP</td>\n",
              "      <td>52653</td>\n",
              "      <td>749</td>\n",
              "      <td>861773.0</td>\n",
              "      <td>0.0142252</td>\n",
              "    </tr>\n",
              "    <tr>\n",
              "      <th>1</th>\n",
              "      <td>AC</td>\n",
              "      <td>31327</td>\n",
              "      <td>698</td>\n",
              "      <td>894470.0</td>\n",
              "      <td>0.0222811</td>\n",
              "    </tr>\n",
              "    <tr>\n",
              "      <th>2</th>\n",
              "      <td>AM</td>\n",
              "      <td>162139</td>\n",
              "      <td>4571</td>\n",
              "      <td>4207714.0</td>\n",
              "      <td>0.0281919</td>\n",
              "    </tr>\n",
              "    <tr>\n",
              "      <th>3</th>\n",
              "      <td>DF</td>\n",
              "      <td>189277</td>\n",
              "      <td>3439</td>\n",
              "      <td>3055149.0</td>\n",
              "      <td>0.0181691</td>\n",
              "    </tr>\n",
              "    <tr>\n",
              "      <th>4</th>\n",
              "      <td>AL</td>\n",
              "      <td>91617</td>\n",
              "      <td>2266</td>\n",
              "      <td>3351543.0</td>\n",
              "      <td>0.0247334</td>\n",
              "    </tr>\n",
              "    <tr>\n",
              "      <th>5</th>\n",
              "      <td>CE</td>\n",
              "      <td>273857</td>\n",
              "      <td>9414</td>\n",
              "      <td>9187103.0</td>\n",
              "      <td>0.0343756</td>\n",
              "    </tr>\n",
              "    <tr>\n",
              "      <th>6</th>\n",
              "      <td>ES</td>\n",
              "      <td>127558</td>\n",
              "      <td>3472</td>\n",
              "      <td>4064052.0</td>\n",
              "      <td>0.027219</td>\n",
              "    </tr>\n",
              "    <tr>\n",
              "      <th>7</th>\n",
              "      <td>BA</td>\n",
              "      <td>351877</td>\n",
              "      <td>7678</td>\n",
              "      <td>14930634.0</td>\n",
              "      <td>0.0218201</td>\n",
              "    </tr>\n",
              "    <tr>\n",
              "      <th>8</th>\n",
              "      <td>MS</td>\n",
              "      <td>82094</td>\n",
              "      <td>1588</td>\n",
              "      <td>2809394.0</td>\n",
              "      <td>0.0193437</td>\n",
              "    </tr>\n",
              "    <tr>\n",
              "      <th>9</th>\n",
              "      <td>MA</td>\n",
              "      <td>187302</td>\n",
              "      <td>4114</td>\n",
              "      <td>7114598.0</td>\n",
              "      <td>0.0219645</td>\n",
              "    </tr>\n",
              "    <tr>\n",
              "      <th>10</th>\n",
              "      <td>GO</td>\n",
              "      <td>261596</td>\n",
              "      <td>5891</td>\n",
              "      <td>7113540.0</td>\n",
              "      <td>0.0225195</td>\n",
              "    </tr>\n",
              "    <tr>\n",
              "      <th>11</th>\n",
              "      <td>MT</td>\n",
              "      <td>65150</td>\n",
              "      <td>2177</td>\n",
              "      <td>3526220.0</td>\n",
              "      <td>0.0334152</td>\n",
              "    </tr>\n",
              "    <tr>\n",
              "      <th>12</th>\n",
              "      <td>PA</td>\n",
              "      <td>257173</td>\n",
              "      <td>6812</td>\n",
              "      <td>8690745.0</td>\n",
              "      <td>0.026488</td>\n",
              "    </tr>\n",
              "    <tr>\n",
              "      <th>13</th>\n",
              "      <td>PB</td>\n",
              "      <td>134886</td>\n",
              "      <td>3147</td>\n",
              "      <td>4039277.0</td>\n",
              "      <td>0.0233308</td>\n",
              "    </tr>\n",
              "    <tr>\n",
              "      <th>14</th>\n",
              "      <td>PE</td>\n",
              "      <td>166039</td>\n",
              "      <td>8731</td>\n",
              "      <td>9616621.0</td>\n",
              "      <td>0.052584</td>\n",
              "    </tr>\n",
              "    <tr>\n",
              "      <th>15</th>\n",
              "      <td>MG</td>\n",
              "      <td>360032</td>\n",
              "      <td>9032</td>\n",
              "      <td>21282583.0</td>\n",
              "      <td>0.0250867</td>\n",
              "    </tr>\n",
              "    <tr>\n",
              "      <th>16</th>\n",
              "      <td>PI</td>\n",
              "      <td>116815</td>\n",
              "      <td>2469</td>\n",
              "      <td>3281480.0</td>\n",
              "      <td>0.021136</td>\n",
              "    </tr>\n",
              "    <tr>\n",
              "      <th>17</th>\n",
              "      <td>RO</td>\n",
              "      <td>72084</td>\n",
              "      <td>1462</td>\n",
              "      <td>1796460.0</td>\n",
              "      <td>0.0202819</td>\n",
              "    </tr>\n",
              "    <tr>\n",
              "      <th>18</th>\n",
              "      <td>RJ</td>\n",
              "      <td>306674</td>\n",
              "      <td>20378</td>\n",
              "      <td>17366189.0</td>\n",
              "      <td>0.0664484</td>\n",
              "    </tr>\n",
              "    <tr>\n",
              "      <th>19</th>\n",
              "      <td>RN</td>\n",
              "      <td>78805</td>\n",
              "      <td>2584</td>\n",
              "      <td>3534165.0</td>\n",
              "      <td>0.0327898</td>\n",
              "    </tr>\n",
              "    <tr>\n",
              "      <th>20</th>\n",
              "      <td>PR</td>\n",
              "      <td>203363</td>\n",
              "      <td>5040</td>\n",
              "      <td>11516840.0</td>\n",
              "      <td>0.0247833</td>\n",
              "    </tr>\n",
              "    <tr>\n",
              "      <th>21</th>\n",
              "      <td>RR</td>\n",
              "      <td>56811</td>\n",
              "      <td>690</td>\n",
              "      <td>631181.0</td>\n",
              "      <td>0.0121455</td>\n",
              "    </tr>\n",
              "    <tr>\n",
              "      <th>22</th>\n",
              "      <td>SE</td>\n",
              "      <td>85063</td>\n",
              "      <td>2235</td>\n",
              "      <td>2318822.0</td>\n",
              "      <td>0.0262746</td>\n",
              "    </tr>\n",
              "    <tr>\n",
              "      <th>23</th>\n",
              "      <td>SC</td>\n",
              "      <td>259635</td>\n",
              "      <td>3177</td>\n",
              "      <td>7252502.0</td>\n",
              "      <td>0.0122364</td>\n",
              "    </tr>\n",
              "    <tr>\n",
              "      <th>24</th>\n",
              "      <td>RS</td>\n",
              "      <td>254855</td>\n",
              "      <td>5954</td>\n",
              "      <td>11422973.0</td>\n",
              "      <td>0.0233623</td>\n",
              "    </tr>\n",
              "    <tr>\n",
              "      <th>25</th>\n",
              "      <td>TO</td>\n",
              "      <td>76765</td>\n",
              "      <td>1112</td>\n",
              "      <td>1590248.0</td>\n",
              "      <td>0.0144858</td>\n",
              "    </tr>\n",
              "    <tr>\n",
              "      <th>26</th>\n",
              "      <td>SP</td>\n",
              "      <td>1125781</td>\n",
              "      <td>39741</td>\n",
              "      <td>46289333.0</td>\n",
              "      <td>0.0353008</td>\n",
              "    </tr>\n",
              "  </tbody>\n",
              "</table>\n",
              "</div>"
            ],
            "text/plain": [
              "   state confirmed deaths  estimated_population death_rate\n",
              "0     AP     52653    749              861773.0  0.0142252\n",
              "1     AC     31327    698              894470.0  0.0222811\n",
              "2     AM    162139   4571             4207714.0  0.0281919\n",
              "3     DF    189277   3439             3055149.0  0.0181691\n",
              "4     AL     91617   2266             3351543.0  0.0247334\n",
              "5     CE    273857   9414             9187103.0  0.0343756\n",
              "6     ES    127558   3472             4064052.0   0.027219\n",
              "7     BA    351877   7678            14930634.0  0.0218201\n",
              "8     MS     82094   1588             2809394.0  0.0193437\n",
              "9     MA    187302   4114             7114598.0  0.0219645\n",
              "10    GO    261596   5891             7113540.0  0.0225195\n",
              "11    MT     65150   2177             3526220.0  0.0334152\n",
              "12    PA    257173   6812             8690745.0   0.026488\n",
              "13    PB    134886   3147             4039277.0  0.0233308\n",
              "14    PE    166039   8731             9616621.0   0.052584\n",
              "15    MG    360032   9032            21282583.0  0.0250867\n",
              "16    PI    116815   2469             3281480.0   0.021136\n",
              "17    RO     72084   1462             1796460.0  0.0202819\n",
              "18    RJ    306674  20378            17366189.0  0.0664484\n",
              "19    RN     78805   2584             3534165.0  0.0327898\n",
              "20    PR    203363   5040            11516840.0  0.0247833\n",
              "21    RR     56811    690              631181.0  0.0121455\n",
              "22    SE     85063   2235             2318822.0  0.0262746\n",
              "23    SC    259635   3177             7252502.0  0.0122364\n",
              "24    RS    254855   5954            11422973.0  0.0233623\n",
              "25    TO     76765   1112             1590248.0  0.0144858\n",
              "26    SP   1125781  39741            46289333.0  0.0353008"
            ]
          },
          "metadata": {
            "tags": []
          },
          "execution_count": 146
        }
      ]
    },
    {
      "cell_type": "code",
      "metadata": {
        "id": "dujr1l_eqs9X",
        "outputId": "59cc7661-0438-4600-b0a5-c397ca3b0fce",
        "colab": {
          "base_uri": "https://localhost:8080/",
          "height": 17
        }
      },
      "source": [
        "from google.colab import files\n",
        "df_states_processed.to_csv('covid_states_df_processed.csv')\n",
        "files.download('covid_states_df_processed.csv')"
      ],
      "execution_count": 148,
      "outputs": [
        {
          "output_type": "display_data",
          "data": {
            "application/javascript": [
              "\n",
              "    async function download(id, filename, size) {\n",
              "      if (!google.colab.kernel.accessAllowed) {\n",
              "        return;\n",
              "      }\n",
              "      const div = document.createElement('div');\n",
              "      const label = document.createElement('label');\n",
              "      label.textContent = `Downloading \"${filename}\": `;\n",
              "      div.appendChild(label);\n",
              "      const progress = document.createElement('progress');\n",
              "      progress.max = size;\n",
              "      div.appendChild(progress);\n",
              "      document.body.appendChild(div);\n",
              "\n",
              "      const buffers = [];\n",
              "      let downloaded = 0;\n",
              "\n",
              "      const channel = await google.colab.kernel.comms.open(id);\n",
              "      // Send a message to notify the kernel that we're ready.\n",
              "      channel.send({})\n",
              "\n",
              "      for await (const message of channel.messages) {\n",
              "        // Send a message to notify the kernel that we're ready.\n",
              "        channel.send({})\n",
              "        if (message.buffers) {\n",
              "          for (const buffer of message.buffers) {\n",
              "            buffers.push(buffer);\n",
              "            downloaded += buffer.byteLength;\n",
              "            progress.value = downloaded;\n",
              "          }\n",
              "        }\n",
              "      }\n",
              "      const blob = new Blob(buffers, {type: 'application/binary'});\n",
              "      const a = document.createElement('a');\n",
              "      a.href = window.URL.createObjectURL(blob);\n",
              "      a.download = filename;\n",
              "      div.appendChild(a);\n",
              "      a.click();\n",
              "      div.remove();\n",
              "    }\n",
              "  "
            ],
            "text/plain": [
              "<IPython.core.display.Javascript object>"
            ]
          },
          "metadata": {
            "tags": []
          }
        },
        {
          "output_type": "display_data",
          "data": {
            "application/javascript": [
              "download(\"download_4989feda-e94e-462b-a221-a28f837eb58d\", \"covid_states_df_processed.csv\", 1349)"
            ],
            "text/plain": [
              "<IPython.core.display.Javascript object>"
            ]
          },
          "metadata": {
            "tags": []
          }
        }
      ]
    }
  ]
}